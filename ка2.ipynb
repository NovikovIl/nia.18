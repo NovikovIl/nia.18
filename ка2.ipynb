{
  "nbformat": 4,
  "nbformat_minor": 0,
  "metadata": {
    "colab": {
      "name": "Untitled5.ipynb",
      "provenance": [],
      "collapsed_sections": [],
      "authorship_tag": "ABX9TyPJkT6srjHQ+nd2vbRkFJUB",
      "include_colab_link": true
    },
    "kernelspec": {
      "name": "python3",
      "display_name": "Python 3"
    },
    "language_info": {
      "name": "python"
    }
  },
  "cells": [
    {
      "cell_type": "markdown",
      "metadata": {
        "id": "view-in-github",
        "colab_type": "text"
      },
      "source": [
        "<a href=\"https://colab.research.google.com/github/NovikovIl/nia.18/blob/main/%D0%BA%D0%B02.ipynb\" target=\"_parent\"><img src=\"https://colab.research.google.com/assets/colab-badge.svg\" alt=\"Open In Colab\"/></a>"
      ]
    },
    {
      "cell_type": "code",
      "metadata": {
        "colab": {
          "base_uri": "https://localhost:8080/",
          "height": 705
        },
        "id": "ZiVBapi-4JVv",
        "outputId": "44874ae5-5658-45c0-c0b7-eb9db315ff7c"
      },
      "source": [
        "from IPython.display import display, Math\n",
        "import matplotlib\n",
        "import matplotlib.pyplot as plt\n",
        "\n",
        "#* наш класс многочленов\n",
        "class Polynomial:\n",
        "#* конструктор класса\n",
        "  def __init__(self, array=[]):\n",
        "    self.array = array\n",
        "#* строка\n",
        "  def __str__(self):\n",
        "    s=\"\"\n",
        "    if (len(self.array))<=0:\n",
        "      s+=\"Nothing\"\n",
        "    for i in range (len(self.array)):\n",
        "      if (len(self.array))>=1:\n",
        "        if len(self.array)-i>0:\n",
        "          s+=str(self.array[len(self.array)-i-1])\n",
        "          if (len(self.array)-i-1)>0:\n",
        "            s+=\"x^\"+str(len(self.array)-i-1)\n",
        "          if (self.array[len(self.array)-i-2])>0 and len(self.array)-i-1>0:\n",
        "            s+=\"+\"\n",
        "    return s\n",
        "\n",
        "#* сложение\n",
        "  def __add__(self,x):\n",
        "    a=Polynomial([0])\n",
        "    if len(self.array)>=len(x.array):\n",
        "      a=self\n",
        "      for i in range (len(x.array)):\n",
        "        a.array[i]+=x.array[i]\n",
        "    \n",
        "    if len(self.array)<len(x.array):\n",
        "      a=x\n",
        "      for i in range (len(self.array)):\n",
        "        a.array[i]+=self.array[i]\n",
        "\n",
        "    return print(\"Plus:\",a)\n",
        "\n",
        "\n",
        "#* вычитание\n",
        "  def __sub__(self,x):\n",
        "    a=Polynomial([0])\n",
        "    if len(self.array)>=len(x.array):\n",
        "      a=self\n",
        "      for i in range (len(x.array)):\n",
        "        a.array[i]-=x.array[i]\n",
        "    if len(self.array)<len(x.array):\n",
        "      a=x\n",
        "      for i in range (len(self.array)):\n",
        "        a.array[i]-=self.array[i]\n",
        "  \n",
        "    return print(\"Minus:\",a)\n",
        "\n",
        "#* значение У\n",
        "\n",
        "  def evalf(self,x):\n",
        "    point=Polynomial([])\n",
        "    point=self\n",
        "    sum=0\n",
        "    for i in range (len(point.array)):\n",
        "      point.array[i]*=(x**i)\n",
        "      sum+=point.array[i]\n",
        "    return (sum)\n",
        "\n",
        "#* вывод LaTex\n",
        "\n",
        "  def ToLaTeX(self):\n",
        "    a=str(self)\n",
        "    return display(Math(a))\n",
        "\n",
        "#* производная\n",
        "\n",
        "  def diff(self):\n",
        "    s=\"\"\n",
        "    for i in range (len(self.array)):\n",
        "      if (len(self.array))>=1:\n",
        "        if len(self.array)-i>0 and (len(self.array)-i-1)!=0:\n",
        "          s+=str(self.array[len(self.array)-i-1]*(len(self.array)-i-1))\n",
        "          if (len(self.array)-i-1)>1:\n",
        "            s+=\"x^\"+str(len(self.array)-i-2)\n",
        "          if (self.array[len(self.array)-i-2])>0 and len(self.array)-i-1>0 and (len(self.array)-i-2)!=0:\n",
        "            s+=\"+\"\n",
        "\n",
        "    return print(\"Diff:\",s)\n",
        "\n",
        "#* графикии\n",
        "  def plot(self, a, b):\n",
        "    n = 1000\n",
        "    dx = (b - a) / n\n",
        "    X, Y = [], []\n",
        "    for i in range(n + 1):\n",
        "      x = a + dx * i\n",
        "      y = self.evalf(x)\n",
        "      X.append(x)\n",
        "      Y.append(y)\n",
        "    \n",
        "    fig, ax = plt.subplots(figsize=(12, 9))\n",
        "    ax.plot(X, Y, color=\"red\", lw=5)\n",
        "    plt.show()\n",
        "\n",
        "x=Polynomial([1])\n",
        "print(x)\n",
        "\n",
        "y=Polynomial([1,2,3,4])\n",
        "print(y)\n",
        "\n",
        "print(\"x-y = \", x-y)\n",
        "\n",
        "z=Polynomial([1,1,1])\n",
        "print(z)\n",
        "\n",
        "print(\"Evalf:\",Polynomial.evalf(z,2))\n",
        "\n",
        "v=Polynomial([2,3,4])\n",
        "\n",
        "Polynomial.diff(v)\n",
        "\n",
        "print(\"_________________________\")\n",
        "\n",
        "w=Polynomial([1,1,1])\n",
        "\n",
        "Polynomial.ToLaTeX(w)\n",
        "\n",
        "g=Polynomial([1,1,1])\n",
        "\n",
        "Polynomial.plot(g,-2,1)"
      ],
      "execution_count": 2,
      "outputs": [
        {
          "output_type": "stream",
          "text": [
            "1\n",
            "4x^3+3x^2+2x^1+1\n",
            "Minus: 4x^3+3x^2+2x^10\n",
            "x-y =  None\n",
            "1x^2+1x^1+1\n",
            "Evalf: 7\n",
            "Diff: 8x^1+3\n",
            "_________________________\n"
          ],
          "name": "stdout"
        },
        {
          "output_type": "display_data",
          "data": {
            "text/latex": "$$1x^2+1x^1+1$$",
            "text/plain": [
              "<IPython.core.display.Math object>"
            ]
          },
          "metadata": {
            "tags": []
          }
        },
        {
          "output_type": "display_data",
          "data": {
            "image/png": "[encoded data removed]",
            "text/plain": [
              "<Figure size 864x648 with 1 Axes>"
            ]
          },
          "metadata": {
            "tags": [],
            "needs_background": "light"
          }
        }
      ]
    }
  ]
}